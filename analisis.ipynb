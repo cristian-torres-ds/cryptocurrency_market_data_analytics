{
 "cells": [
  {
   "cell_type": "raw",
   "metadata": {},
   "source": [
    "venv/Scripts/Activate.ps1"
   ]
  },
  {
   "cell_type": "code",
   "execution_count": null,
   "metadata": {},
   "outputs": [],
   "source": []
  }
 ],
 "metadata": {
  "language_info": {
   "name": "python"
  },
  "orig_nbformat": 4
 },
 "nbformat": 4,
 "nbformat_minor": 2
}

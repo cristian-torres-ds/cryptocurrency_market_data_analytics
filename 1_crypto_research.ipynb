{
 "cells": [
  {
   "cell_type": "markdown",
   "metadata": {},
   "source": [
    "# Research y Elección de Categoría"
   ]
  },
  {
   "cell_type": "markdown",
   "metadata": {},
   "source": [
    "## Tipos de criptomonedas:"
   ]
  },
  {
   "cell_type": "markdown",
   "metadata": {},
   "source": [
    "#### Store of value:\n",
    "\n",
    "Están diseñadas para mantener o incrementar su poder adquisitivo a través del tiempo, ya que solo se crea una cantidad limitada de monedas.\n",
    "\n",
    "Son desentralizadas y una de sus ventajas es que usualmente son una inversión mas segura, ya tienden a aumentar su valor con el tiempo.\n",
    "\n",
    "El valor de estas puede depender de que tengan un Fair Launch, que es cuando una comunidad comienza a minar la moneda colectivamente desde el principio, ya que hay algunas que pueden ser pre-minadas por un equipo de los mismos inversores que tienen una gran porción de esas monedas, que es algo que se puede controlar viendo la distribución de estas monedas usando un explorador de blockchain.\n",
    "\n",
    "La principal desventaja de estas monedas es que usualmente tienen una funcionalidad limitada ya que no pueden hacer mucho mas que proteger el poder de compra a través del tiempo y transferirse de un individuo a otro."
   ]
  },
  {
   "cell_type": "markdown",
   "metadata": {},
   "source": [
    "#### Smart Contract Cryptocurrency:\n",
    "\n",
    "Están diseñadas para ser programables con menos énfasis en Store of value.\n",
    "\n",
    "Actualmente manejamos nuestro dinero a través de plataformas centralizadas, como bancos o brokers y estos están al tanto de todo lo que hacemos, ya sea ahorrar, prestar o pedir dinero. No solo eso si no que no son muy seguras y usando estas plataformas te pueden robar la identidad, el dinero, etc...\n",
    "\n",
    "Estas criptomonedas ofrecen una alternativa radicalmente distinta a la que usamos a diario, Smart Contracts son básicamente programas que hacen algo automáticamente cuando se cumplen unas algunas condiciones, como por ejemplo, si les gusta mi presentación yo me alegraré.\n",
    "\n",
    "Estos Smart contracts pueden ser usados para crear distintos Tokens que pueden ser fungibles o no fungibles, y una vez creados no se pueden modificar, ya que estos son inmutables y desentralizados.\n",
    "\n",
    "Al combinar varios Smart Contracts se obtienen aplicaciones descentralizada llamadas DApps. Hay DApps para todo, comercio, pagos, préstamos e incluso para apuestas.\n",
    "\n",
    "Estas no nocesitan información personal y una de las mejores características es que pueden operar sin intermediarios que obtengan tu data o información.\n",
    "\n",
    "Las Smart Contract no tienen una cantidad limitada de monedas, por lo que tienen inflación anual que bien puede superar dobles dígitos. Esta impreción de nuevas monedas no suele ser un problema si hay una cantidad de usuarios comprando monedas para pagar las tarifas necesarias para usarlas, lo que nos lleva a la principal ventaja de estas monedas y es que su valor está condicionado por el tamaño y la adopción de las DApps y los ecosistemas de tokens hechos mediante sus sistemas de blockcahins.\n",
    "\n",
    "ETH (Ethereum) y BNB (Binance) tienen una capitalización de cientos de billones con solo unos millones de usuarios, por lo tanto si la adopción de estas monedas sigue creciendo, podrían legar a capitalizarce en trillones de dólares al final de la década.\n",
    "\n",
    "El único problema es que de tener éxito probablemente haya una que sea la gánadora, es muy difícil saber cual va a ser, y hay mucha competencia entre estas monedas.\n"
   ]
  },
  {
   "cell_type": "markdown",
   "metadata": {},
   "source": [
    "#### Oracle Cryptocurrency:\n",
    "\n",
    "El objetivo de estas Cryptos es el de extraer información del mundo exterior para incorporarla al block-chain, para ser usadas por las Smart Contract. Esto es necesario porque las Smart Contract puedan acceder a la información almacenada fuera de la red blockchain.\n",
    "\n",
    "La ventaja de esta monedas es que su demanda va a incrementar en cuanto sigan aumentando la cantidad de usuarios que usen Smart Contract C. y DApps.\n",
    "\n",
    "La desventaja es que la mayoría de ellas tienen la mayoría de su suministro total preminado por sus esquipos de desarrollo e inversores privados, el problema de esto es que si su precio aumenta, hay un gran incentivo para sus equipos e inversores privados para vender, evitando así que su precio siga aumentando.\n",
    "\n",
    "La mayoría de las Smart Contract necesitan de las Oracle, pero hay algunas como Cardano que desarrollaron su propia Oracle Crypto lo cual diluye aún mas su demanda."
   ]
  },
  {
   "cell_type": "markdown",
   "metadata": {
    "vscode": {
     "languageId": "plaintext"
    }
   },
   "source": [
    "#### Payment Cryptocurrency:\n",
    "\n",
    "Apuntan a reemplazar los métodos de pago que usamos diariamente y algunas usan tecnología de Smart Contract.\n",
    "\n",
    "Entidades como Visa, Mercado Pago, PostNet, toman una porción de las transacciones realizadas; incluso pagamos trarifas mensuales solo para mantener una cuenta bancaria o una tarjeta de crédito.\n",
    "\n",
    "Sin importar el contexto siempre hay un intermediario que obtiene una porción y también datos personales.\n",
    "\n",
    "Las Payment Cryptocurrency permiten realizar transacciones seguras en cuestión de segundos a una fracción del costo.\n",
    "\n",
    "Aparte estas monedas pueden quedar en tu billetera personal, no tienes que depender de un banco para almacenar tus fondos.\n",
    "\n",
    "Por esas razones son el tipo de monedas que más probabilidades tienen de alcanzar una adopción masiva.\n",
    "\n",
    "Actualmente Dash se usa bastante en Argentina.\n",
    "\n",
    "Su desventaja es que todavía están lejos de llegar a reemplazar el dinero real, ya que estas monedas no tienen un precio muy estable y los Gobiernos an demostrado ser capases de entrometerse para evitar su uso.\n",
    "\n",
    "Bitcoin Cash, Dash, Terra, Telcoin"
   ]
  },
  {
   "cell_type": "markdown",
   "metadata": {},
   "source": [
    "#### Privacy Cryptocurrency:\n",
    "\n",
    "Normalmente se piensa que las transacciones realizadas con cualquier criptomoneda son privadas, pero no es realmente el caso, ya que todas las transacciones son púbicas, por lo que todas las transacciones pueden verse a medida que se realizan. Así que si bien tu identidad no está directamente relacionada con tu billetera digital de criptomonedas, no es tan difícil rastrear tu billetera, especialmente si usas una aplicación o realizas una transacción que requiera tu información personal.\n",
    "\n",
    "Tal vez a uno no le preocupe mucho eso, pero para personas con muchas riquezas o corporaciones es algo importante, ya que lo último que qieren es que alguien pueda saber cuanto poseen.\n",
    "\n",
    "Por otro lado también tienen aplicaciones en cosas mas privadas como el entretenimiento para adultos, o cosas mas turbias.\n",
    "\n",
    "Las ventajas de estas monedas es que usualmente están diseñadas extremadamente bien y la mayoría tienen un \"fair launch\", osea que se estrenan sin preminado o grandes inversores que puedan tener un alto porcentaje.\n",
    "\n",
    "Las transacciones pueden llegar a ser tan económicas y rápidas como las de las Payment Cryptos.\n",
    "\n",
    "La principal desventaja de estas, como es de imaginarse, es que son muy perseguidas por entes reguladores, porque son muy usadas en actividades ilegales"
   ]
  },
  {
   "cell_type": "markdown",
   "metadata": {},
   "source": [
    "#### Exchange Tokens:\n",
    "\n",
    "Los tokens de intercambio son criptomonedas emitidas por plataformas de intercambio de criptomonedas como Binance y FTX. Estos tokens otorgan beneficios a los titulares, como descuentos en tarifas de negociación, reembolsos y acceso anticipado a ventas de tokens en la plataforma (llamadas Ofertas Iniciales de Intercambio, o IEOs).\n",
    "\n",
    "Los intercambios emiten estos tokens para diferenciarse en un mercado competitivo y generan riqueza al mantener una parte de los tokens para sí mismos. Los tokens también aumentan la liquidez de la plataforma, lo que es útil en momentos de mercado ajustado.\n",
    "\n",
    "Estos tokens funcionan como otras criptomonedas, pudiendo ser negociados en mercados secundarios o retenidos con fines especulativos. Aunque se llaman tokens de intercambio, no equivalen a acciones de la empresa y generalmente no otorgan derechos de gobernanza sobre el intercambio.\n",
    "\n",
    "Para los usuarios, los principales beneficios son descuentos en tarifas de negociación. Cuanto más tokens de intercambio posea un usuario, mayores serán los descuentos que recibirán. Algunos intercambios también recompensan a los usuarios con tokens por completar tareas o comerciar con ciertas monedas.\n",
    "\n",
    "La principal ventaja es que lo más probable es que su valor aumente, pero por otro lado su aumento probablemente sea muy lento y tampoco es garantizado.\n",
    "\n"
   ]
  }
 ],
 "metadata": {
  "language_info": {
   "name": "python"
  },
  "orig_nbformat": 4
 },
 "nbformat": 4,
 "nbformat_minor": 2
}
